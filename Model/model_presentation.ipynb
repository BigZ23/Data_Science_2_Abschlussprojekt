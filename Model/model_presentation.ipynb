{
 "cells": [
  {
   "cell_type": "markdown",
   "id": "ff20ce88-f3aa-49af-9da3-75a599a1eb5d",
   "metadata": {
    "scrolled": true
   },
   "source": [
    "### Creating the Dataloader\n",
    "##### Dataloader process slightly adapted from our lecture.\n",
    "###### RandomSplitter: Dividing into training and validation sets. \n",
    "###### item_tfms and batch_tfms: image augmentation and presizing."
   ]
  },
  {
   "cell_type": "code",
   "execution_count": null,
   "id": "8c03a16c-7079-4d01-8e44-4b1db11a5946",
   "metadata": {},
   "outputs": [],
   "source": [
    "# defining the datablock\n",
    "satellite_block = DataBlock(\n",
    "    blocks=(ImageBlock, MaskBlock(codes=dictionary_landuse)),\n",
    "    get_items=get_image_files,\n",
    "    get_y=get_mask,\n",
    "    splitter=RandomSplitter(),\n",
    "    item_tfms=RandomResizedCrop(224, min_scale=0.5),\n",
    "    batch_tfms=aug_transforms(),\n",
    ")"
   ]
  },
  {
   "cell_type": "markdown",
   "id": "1d561fa4-22d1-4660-8c54-e408276da72b",
   "metadata": {},
   "source": [
    "##### Function to make the masks compatible with the datablock's y_coordinate."
   ]
  },
  {
   "cell_type": "code",
   "execution_count": null,
   "id": "cfc82636-bb32-430c-bd03-8ff3b6f70d99",
   "metadata": {
    "scrolled": true
   },
   "outputs": [],
   "source": [
    "# function to get the mask given an image\n",
    "def get_mask(x):\n",
    "    # load the numpyfile\n",
    "    numpyfile = np.load(mask_path / f\"{x.stem}.npz\")\n",
    "    # access the data stored in the compressed file format\n",
    "    data = numpyfile.f.arr_0\n",
    "    # close the file as to save memory\n",
    "    numpyfile.close()\n",
    "    # return the extracted mask\n",
    "    return data"
   ]
  },
  {
   "cell_type": "markdown",
   "id": "de8edfb4-c8a6-4cf3-ba0b-86aa9b546ff2",
   "metadata": {},
   "source": [
    "##### Setup check for GPU usage with PyTorch and CUDA\n",
    "##### defining the DataLoader accordingly"
   ]
  },
  {
   "cell_type": "code",
   "execution_count": null,
   "id": "205fdd85-580a-4b55-b570-3a7b169d5881",
   "metadata": {},
   "outputs": [],
   "source": [
    "# if pytorch and cuda is setup correctly enable the dataloader to run on the gpu by passing it the cuda device (Installation of cuda https://developer.nvidia.com/cuda-downloads is necessary)\n",
    "if torch.cuda.is_available():\n",
    "    dataloader = satellite_block.dataloaders(\n",
    "        image_path, bs=32, device=torch.device(\"cuda\")\n",
    "    )\n",
    "    \n",
    "else:\n",
    "    dataloader = satellite_block.dataloaders(image_path, bs=32)"
   ]
  },
  {
   "cell_type": "markdown",
   "id": "4550a21a-0c85-43df-af65-1b3c856ab85b",
   "metadata": {},
   "source": [
    "### Training process"
   ]
  },
  {
   "cell_type": "markdown",
   "id": "304b65e4-7a22-4423-9c8a-911509572031",
   "metadata": {},
   "source": [
    "#### Creation of a UNet-Learner for segmentation of images\n",
    "##### dice_wo_bg, Dice: metrics to evaluate performance\n",
    "##### Self_attention=True:\n",
    "##### act_cls=Mish:\n",
    "##### opt_func=ranger\n",
    "\n",
    "##### 3 training sessions to the final model"
   ]
  },
  {
   "cell_type": "code",
   "execution_count": null,
   "id": "c64e2cba-2567-4369-a108-f98521a2d891",
   "metadata": {},
   "outputs": [],
   "source": [
    "# define the unet learner, the metrics, also enable self attention, set mish as the activation function and pass ranger as the optimization function\n",
    "learner = unet_learner(\n",
    "    dataloader,\n",
    "    resnet34,\n",
    "    metrics=[dice_wo_bg, Dice],\n",
    "    self_attention=True,\n",
    "    act_cls=Mish,\n",
    "    opt_func=ranger,\n",
    ")"
   ]
  },
  {
   "cell_type": "markdown",
   "id": "66d3374e-5538-44ac-b6a3-37564adede05",
   "metadata": {},
   "source": [
    "#### First iteration of model training:\n",
    "##### - derive optimal learning rate\n",
    "##### - maximum of 20 epochs\n",
    "##### - Early stopping based on dice_wo_bg value"
   ]
  },
  {
   "cell_type": "code",
   "execution_count": null,
   "id": "5844587f-95e1-4de5-9197-a8d009e43ad0",
   "metadata": {},
   "outputs": [],
   "source": [
    "# first pass model training, with early stopping after seeing no improvment in the custom defined metric for 4 epochs, train max of 20 epochs\n",
    "learner.fit_one_cycle(\n",
    "    20,\n",
    "    lr_max=lr.valley,\n",
    "    cbs=[\n",
    "        EarlyStoppingCallback(\n",
    "            monitor=\"dice_wo_bg\", min_delta=0.01, patience=4, comp=np.greater\n",
    "        ),\n",
    "        SaveModelCallback(\n",
    "            monitor=\"dice_wo_bg\", min_delta=0.01, comp=np.greater, fname=\"first_pass\"\n",
    "        ),\n",
    "    ],\n",
    ")"
   ]
  },
  {
   "cell_type": "code",
   "execution_count": null,
   "id": "c1e259d5-e22c-4e39-9d9a-e604a76f5bd1",
   "metadata": {},
   "outputs": [],
   "source": [
    "# load the learner and show some examples\n",
    "learner = learner.load(\"first_pass\")\n",
    "learner.show_results(max_n=5)"
   ]
  },
  {
   "cell_type": "code",
   "execution_count": 1,
   "id": "e74466b1-f507-4452-85e9-d632c3e5dae5",
   "metadata": {},
   "outputs": [
    {
     "ename": "SyntaxError",
     "evalue": "invalid syntax (<ipython-input-1-a6570acf0659>, line 1)",
     "output_type": "error",
     "traceback": [
      "\u001b[1;36m  File \u001b[1;32m\"<ipython-input-1-a6570acf0659>\"\u001b[1;36m, line \u001b[1;32m1\u001b[0m\n\u001b[1;33m    FIRST PASS\u001b[0m\n\u001b[1;37m             ^\u001b[0m\n\u001b[1;31mSyntaxError\u001b[0m\u001b[1;31m:\u001b[0m invalid syntax\n"
     ]
    }
   ],
   "source": [
    "Results First Pass"
   ]
  },
  {
   "cell_type": "code",
   "execution_count": null,
   "id": "38eeb850-3f12-4eb2-9cea-447162ee6222",
   "metadata": {},
   "outputs": [],
   "source": [
    "# load the model and show some examples\n",
    "learner = learner.load(\"second_pass\")\n",
    "learner.show_results(max_n=5)"
   ]
  },
  {
   "cell_type": "markdown",
   "id": "aa2229d9-1298-4663-a8fa-d5aa0c140ff4",
   "metadata": {},
   "source": [
    "Results Second Pass"
   ]
  },
  {
   "cell_type": "code",
   "execution_count": null,
   "id": "26a0cc5e-7e51-4f70-8b48-11b7c6432929",
   "metadata": {},
   "outputs": [],
   "source": [
    "# load the model and show some examples\n",
    "learner = learner.load(\"finetuned_model\")\n",
    "learner.show_results(max_n=5)"
   ]
  },
  {
   "cell_type": "markdown",
   "id": "48857496-083e-4e35-b575-8ad9d903ea88",
   "metadata": {},
   "source": [
    "Results Third Pass"
   ]
  }
 ],
 "metadata": {
  "kernelspec": {
   "display_name": "tf_gpu.env",
   "language": "python",
   "name": "tf_gpu.env"
  },
  "language_info": {
   "codemirror_mode": {
    "name": "ipython",
    "version": 3
   },
   "file_extension": ".py",
   "mimetype": "text/x-python",
   "name": "python",
   "nbconvert_exporter": "python",
   "pygments_lexer": "ipython3",
   "version": "3.6.13"
  }
 },
 "nbformat": 4,
 "nbformat_minor": 5
}
