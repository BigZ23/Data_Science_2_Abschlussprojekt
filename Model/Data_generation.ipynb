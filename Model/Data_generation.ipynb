{
 "cells": [
  {
   "cell_type": "markdown",
   "id": "7435a255",
   "metadata": {},
   "source": [
    "Basic Algorithm to download images from google static api"
   ]
  },
  {
   "cell_type": "code",
   "execution_count": 15,
   "id": "5406a258",
   "metadata": {},
   "outputs": [],
   "source": [
    "import requests\n",
    "import shutil\n",
    "import os\n",
    "\n",
    "def download_images(coordinates, zoom=18):\n",
    "    url = 'https://maps.googleapis.com/maps/api/staticmap?'\n",
    "    api_key = ''\n",
    "    size = '500x500'\n",
    "    scale = \"1\"\n",
    "    maptype = 'satellite'\n",
    "\n",
    "    response = requests.get(url + 'center=' + str(coordinates[0]) + \",\" + str(coordinates[1]) + '&zoom=' + str(zoom) + '&size=' + size + '&maptype=' + maptype + '&scale=' + scale + \"&sensor=false\"+ '&key=' + api_key, stream=True)\n",
    "    with open(os.getcwd() + os.sep + 'Data' + os.sep + str(coordinates[0]) + \"_\" + str(coordinates[1]) + \".png\", 'wb') as out_file:\n",
    "        shutil.copyfileobj(response.raw, out_file)\n",
    "    del response"
   ]
  },
  {
   "cell_type": "markdown",
   "id": "543ef1de",
   "metadata": {},
   "source": [
    "Try to randomly pick coordinates and download the image"
   ]
  },
  {
   "cell_type": "code",
   "execution_count": 9,
   "id": "5af4f29d",
   "metadata": {},
   "outputs": [],
   "source": [
    "import random\n",
    "\n",
    "def load_random_sample(n = 5):\n",
    "  for i in range(n):\n",
    "    random_lat = round(random.uniform(-90, 90), 3)\n",
    "    random_lon = round(random.uniform(-180, 180), 3)\n",
    "    download_images(coordinates=(random_lat,random_lon))"
   ]
  },
  {
   "cell_type": "markdown",
   "id": "8ad087e7",
   "metadata": {},
   "source": [
    "The problem of completly random image gathering is, that most places dont have exact satellite data and also the planet is 70% water, so you have a high likelihood of getting only images of oceans/seas.\n",
    "The solution would be to give the randomiser tighter randomization bounderies."
   ]
  },
  {
   "cell_type": "markdown",
   "id": "daeaa79c",
   "metadata": {},
   "source": [
    "Solution: Drawing \"boxes\" around countries and picking coordinates in those boxes."
   ]
  }
 ],
 "metadata": {
  "kernelspec": {
   "display_name": "Python 3 (ipykernel)",
   "language": "python",
   "name": "python3"
  },
  "language_info": {
   "codemirror_mode": {
    "name": "ipython",
    "version": 3
   },
   "file_extension": ".py",
   "mimetype": "text/x-python",
   "name": "python",
   "nbconvert_exporter": "python",
   "pygments_lexer": "ipython3",
   "version": "3.10.11"
  },
  "toc": {
   "base_numbering": 1,
   "nav_menu": {},
   "number_sections": true,
   "sideBar": true,
   "skip_h1_title": false,
   "title_cell": "Table of Contents",
   "title_sidebar": "Contents",
   "toc_cell": false,
   "toc_position": {},
   "toc_section_display": true,
   "toc_window_display": false
  },
  "varInspector": {
   "cols": {
    "lenName": 16,
    "lenType": 16,
    "lenVar": 40
   },
   "kernels_config": {
    "python": {
     "delete_cmd_postfix": "",
     "delete_cmd_prefix": "del ",
     "library": "var_list.py",
     "varRefreshCmd": "print(var_dic_list())"
    },
    "r": {
     "delete_cmd_postfix": ") ",
     "delete_cmd_prefix": "rm(",
     "library": "var_list.r",
     "varRefreshCmd": "cat(var_dic_list()) "
    }
   },
   "types_to_exclude": [
    "module",
    "function",
    "builtin_function_or_method",
    "instance",
    "_Feature"
   ],
   "window_display": false
  }
 },
 "nbformat": 4,
 "nbformat_minor": 5
}
